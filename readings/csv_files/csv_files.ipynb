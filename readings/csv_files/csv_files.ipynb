{
 "cells": [
  {
   "cell_type": "code",
   "execution_count": 23,
   "metadata": {},
   "outputs": [
    {
     "name": "stdout",
     "output_type": "stream",
     "text": [
      "data [{'post id': '1', 'policy': 'spam'}, {'post id': '15', 'policy': 'fishing'}, {'post id': '3', 'policy': 'spam'}, {'post id': '2', 'policy': 'misinformation'}, {'post id': '3', 'policy': 'fishing'}, {'post id': '7', 'policy': 'spam'}, {'post id': '8', 'policy': 'misinformation'}, {'post id': '2', 'policy': 'spam'}, {'post id': '5', 'policy': 'spam'}]\n"
     ]
    }
   ],
   "source": [
    "import csv\n",
    "\n",
    "with open('example.csv', 'r') as file:\n",
    "    violations = csv.DictReader(file, skipinitialspace=True)\n",
    "    data = list(violations)\n",
    "    print(f\"data {data}\")\n",
    "\n",
    "def violations_count(policy) -> int:\n",
    "    policy_list = [entry['policy'] for entry in data]\n",
    "    policy_frequencies = {}\n",
    "\n",
    "    for violation in policy_list:\n",
    "        if violation not in policy_frequencies:\n",
    "            policy_frequencies[violation] = 1\n",
    "        else:\n",
    "            policy_frequencies[violation] += 1\n",
    "\n",
    "    return policy_frequencies.get(policy, 0)"
   ]
  },
  {
   "cell_type": "code",
   "execution_count": 24,
   "metadata": {},
   "outputs": [],
   "source": [
    "from collections import defaultdict\n",
    "\n",
    "cache = defaultdict(lambda: 0)\n",
    "\n",
    "def violations_count_defaultdict(policy) -> int:\n",
    "    if len(cache) == 0:\n",
    "        policy_list = [entry['policy'] for entry in data]\n",
    "\n",
    "        for violation in policy_list:\n",
    "            cache[violation] += 1\n",
    "\n",
    "    return cache.get(policy, 0)"
   ]
  },
  {
   "cell_type": "code",
   "execution_count": 25,
   "metadata": {},
   "outputs": [],
   "source": [
    "from collections import Counter\n",
    "\n",
    "cache = {}\n",
    "\n",
    "def violations_count_defaultdict(policy) -> int:\n",
    "    global cache\n",
    "    \n",
    "    if len(cache) == 0:\n",
    "        policy_list = [entry['policy'] for entry in data]\n",
    "        cache = Counter(policy_list)\n",
    "    return cache.get(policy, 0)"
   ]
  },
  {
   "cell_type": "code",
   "execution_count": 26,
   "metadata": {},
   "outputs": [],
   "source": [
    "assert violations_count_defaultdict(\"nonexisting\") == 0\n",
    "assert violations_count_defaultdict(\"spam\") == 5"
   ]
  }
 ],
 "metadata": {
  "kernelspec": {
   "display_name": "Python 3",
   "language": "python",
   "name": "python3"
  },
  "language_info": {
   "codemirror_mode": {
    "name": "ipython",
    "version": 3
   },
   "file_extension": ".py",
   "mimetype": "text/x-python",
   "name": "python",
   "nbconvert_exporter": "python",
   "pygments_lexer": "ipython3",
   "version": "3.9.6"
  }
 },
 "nbformat": 4,
 "nbformat_minor": 2
}
