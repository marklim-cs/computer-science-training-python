{
 "cells": [
  {
   "cell_type": "markdown",
   "metadata": {},
   "source": [
    "A JSON string:\n",
    "{property:value}\n",
    "'{\"name\":\"John\", \"age\":30, \"car\":null}'\n",
    "\n",
    "# convert into JSON:\n",
    "json.dumps(x)\n",
    "\n",
    "# write to JSON file\n",
    "json.dump()\n",
    "Syntax: json.dump(dict, file_pointer) \n",
    "\n",
    "# convert into Python:\n",
    "json.loads(x)\n",
    "\n",
    "# Use the indent parameter to define the numbers of indents:\n",
    "print(json.dumps(x, indent=4))\n",
    "\n",
    "# should the result be sorted or not:\n",
    "json.dumps(x, sort_keys=True)\n",
    "\n",
    "\n"
   ]
  },
  {
   "cell_type": "code",
   "execution_count": 6,
   "metadata": {},
   "outputs": [
    {
     "name": "stdout",
     "output_type": "stream",
     "text": [
      "Denis is kotik and Marina is kurochka\n"
     ]
    }
   ],
   "source": [
    "import json \n",
    "\n",
    "#Parse JSON - convert from JSON to Python\n",
    "\n",
    "# some JSON\n",
    "x = '{\"name\":\"Marina\", \"type\":\"kurochka\"}'\n",
    "y = '{\"name\":\"Denis\", \"type\":\"kotik\"}'\n",
    "\n",
    "# parse x and y\n",
    "xj = json.loads(x)\n",
    "yj = json.loads(y)\n",
    "\n",
    "print(f\"{yj['name']} is {yj['type']} and {xj['name']} is {xj['type']}\")"
   ]
  },
  {
   "cell_type": "code",
   "execution_count": 7,
   "metadata": {},
   "outputs": [
    {
     "name": "stdout",
     "output_type": "stream",
     "text": [
      "{\"name\": \"John\", \"age\": 30, \"city\": \"New York\"}\n"
     ]
    }
   ],
   "source": [
    "import json \n",
    "# Convert from Python to JSON\n",
    "\n",
    "x = {\n",
    "  \"name\": \"John\",\n",
    "  \"age\": 30,\n",
    "  \"city\": \"New York\"\n",
    "}\n",
    "\n",
    "xj = json.dumps(x)\n",
    "\n",
    "print(xj)"
   ]
  },
  {
   "cell_type": "code",
   "execution_count": 8,
   "metadata": {},
   "outputs": [
    {
     "name": "stdout",
     "output_type": "stream",
     "text": [
      "{\"name\": \"John\", \"age\": 30}\n",
      "[\"apple\", \"bananas\"]\n",
      "[\"apple\", \"bananas\"]\n",
      "\"hello\"\n",
      "42\n",
      "31.76\n",
      "true\n",
      "false\n",
      "null\n"
     ]
    }
   ],
   "source": [
    "import json\n",
    "\n",
    "print(json.dumps({\"name\": \"John\", \"age\": 30}))\n",
    "print(json.dumps([\"apple\", \"bananas\"]))\n",
    "print(json.dumps((\"apple\", \"bananas\")))\n",
    "print(json.dumps(\"hello\"))\n",
    "print(json.dumps(42))\n",
    "print(json.dumps(31.76))\n",
    "print(json.dumps(True))\n",
    "print(json.dumps(False))\n",
    "print(json.dumps(None))"
   ]
  },
  {
   "cell_type": "markdown",
   "metadata": {},
   "source": [
    "# When you convert from Python to JSON, Python objects are converted into the JSON (JavaScript) equivalent:\n",
    "\n",
    "Python\tJSON\n",
    "dict\tObject\n",
    "list\tArray\n",
    "tuple\tArray\n",
    "str\t    String\n",
    "int\t    Number\n",
    "float\tNumber\n",
    "True\ttrue\n",
    "False\tfalse\n",
    "None\tnull"
   ]
  },
  {
   "cell_type": "code",
   "execution_count": 19,
   "metadata": {},
   "outputs": [
    {
     "name": "stdout",
     "output_type": "stream",
     "text": [
      "{\n",
      "    \"age\": 30,\n",
      "    \"cars\": [\n",
      "        {\n",
      "            \"model\": \"BMW 230\",\n",
      "            \"mpg\": 27.5\n",
      "        },\n",
      "        {\n",
      "            \"model\": \"Ford Edge\",\n",
      "            \"mpg\": 24.1\n",
      "        }\n",
      "    ],\n",
      "    \"children\": [\n",
      "        \"Ann\",\n",
      "        \"Billy\"\n",
      "    ],\n",
      "    \"divorced\": false,\n",
      "    \"married\": true,\n",
      "    \"name\": \"John\",\n",
      "    \"pets\": null\n",
      "}\n"
     ]
    }
   ],
   "source": [
    "import json\n",
    "\n",
    "x = {\n",
    "  \"name\": \"John\",\n",
    "  \"age\": 30,\n",
    "  \"married\": True,\n",
    "  \"divorced\": False,\n",
    "  \"children\": (\"Ann\",\"Billy\"),\n",
    "  \"pets\": None,\n",
    "  \"cars\": [\n",
    "    {\"model\": \"BMW 230\", \"mpg\": 27.5},\n",
    "    {\"model\": \"Ford Edge\", \"mpg\": 24.1}\n",
    "  ]\n",
    "}\n",
    "\n",
    "print(json.dumps(x, indent=4, sort_keys=True))"
   ]
  },
  {
   "cell_type": "code",
   "execution_count": 25,
   "metadata": {},
   "outputs": [
    {
     "data": {
      "text/plain": [
       "3"
      ]
     },
     "execution_count": 25,
     "metadata": {},
     "output_type": "execute_result"
    }
   ],
   "source": [
    "# Specializing JSON object decoding\n",
    "import json\n",
    "def as_add(dct):\n",
    "    if 'add' in dct:\n",
    "        return (dct['real'] + dct['imag'])\n",
    "    return dct\n",
    "\n",
    "json.loads('{\"add\": true, \"real\": 1, \"imag\": 2}',\n",
    "    object_hook=as_add)"
   ]
  },
  {
   "cell_type": "code",
   "execution_count": 26,
   "metadata": {},
   "outputs": [],
   "source": [
    "# Python program to write JSON\n",
    "# to a file\n",
    "\n",
    "import json\n",
    "dictionary ={\n",
    "    \"name\" : \"sathiyajith\",\n",
    "    \"rollno\" : 56,\n",
    "    \"cgpa\" : 8.6,\n",
    "    \"phonenumber\" : \"9976770500\"\n",
    "}\n",
    "\n",
    "with open(\"example.json\", \"w\") as examplefile:\n",
    "    json.dump(dictionary, examplefile)\n"
   ]
  }
 ],
 "metadata": {
  "kernelspec": {
   "display_name": "Python 3",
   "language": "python",
   "name": "python3"
  },
  "language_info": {
   "codemirror_mode": {
    "name": "ipython",
    "version": 3
   },
   "file_extension": ".py",
   "mimetype": "text/x-python",
   "name": "python",
   "nbconvert_exporter": "python",
   "pygments_lexer": "ipython3",
   "version": "3.9.6"
  }
 },
 "nbformat": 4,
 "nbformat_minor": 2
}
