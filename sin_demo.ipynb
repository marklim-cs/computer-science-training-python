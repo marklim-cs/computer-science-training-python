{
 "cells": [
  {
   "cell_type": "code",
   "execution_count": 1,
   "metadata": {},
   "outputs": [
    {
     "name": "stdout",
     "output_type": "stream",
     "text": [
      "%pylab is deprecated, use %matplotlib inline and import the required libraries.\n",
      "Populating the interactive namespace from numpy and matplotlib\n"
     ]
    }
   ],
   "source": [
    "%pylab inline --no-import-all"
   ]
  },
  {
   "cell_type": "code",
   "execution_count": 2,
   "metadata": {},
   "outputs": [],
   "source": [
    "from ipywidgets import interact, widgets\n",
    "import numpy as np"
   ]
  },
  {
   "cell_type": "code",
   "execution_count": 3,
   "metadata": {},
   "outputs": [],
   "source": [
    "# implement sin(x) using taylor series\n",
    "# see formula here: https://i.stack.imgur.com/sG2mY.png\n",
    "def factorial(n: int) -> int:\n",
    "    b = 1\n",
    "    for i in range(1, n + 1):\n",
    "        b *= i\n",
    "    return b\n",
    "\n",
    "\n",
    "def sin(x: float) -> float:\n",
    "    sum = 0\n",
    "    sign = 1\n",
    "    for i in range(1, 100000000, 2):  #step 2\n",
    "        b = x**i\n",
    "        c = factorial(i)\n",
    "        sum += sign * b / c\n",
    "        sign = -sign  #чтоб чередовались - с +\n",
    "        if abs(b / c) < 1e-12:\n",
    "            break\n",
    "    return sum\n",
    "\n",
    "\n",
    "def sin2(x: float) -> float:\n",
    "    prev = x\n",
    "    sum = x\n",
    "    for i in range(3, 100000000, 2):\n",
    "        prev *= -x * x / (i * (i - 1))\n",
    "        sum += prev\n",
    "        if abs(prev) < 1e-12:\n",
    "            break\n",
    "    return sum\n",
    "\n"
   ]
  },
  {
   "cell_type": "code",
   "execution_count": 4,
   "metadata": {},
   "outputs": [
    {
     "data": {
      "application/vnd.jupyter.widget-view+json": {
       "model_id": "5a7029b322c1452e91d77fd12441497a",
       "version_major": 2,
       "version_minor": 0
      },
      "text/plain": [
       "interactive(children=(FloatSlider(value=0.5, description='x', max=6.283185307179586, min=-6.283185307179586), …"
      ]
     },
     "metadata": {},
     "output_type": "display_data"
    }
   ],
   "source": [
    "@interact(x = widgets.FloatSlider(0.5, min = -2.0 * np.pi, max = 2.0 * np.pi))\n",
    "def show_sin(x):\n",
    "    return f\"sin({round(x, 3)}) = {round(sin(x), 3)}\""
   ]
  }
 ],
 "metadata": {
  "kernelspec": {
   "display_name": "base",
   "language": "python",
   "name": "python3"
  },
  "language_info": {
   "codemirror_mode": {
    "name": "ipython",
    "version": 3
   },
   "file_extension": ".py",
   "mimetype": "text/x-python",
   "name": "python",
   "nbconvert_exporter": "python",
   "pygments_lexer": "ipython3",
   "version": "3.10.10"
  }
 },
 "nbformat": 4,
 "nbformat_minor": 2
}
