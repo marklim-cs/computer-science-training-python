{
 "cells": [
  {
   "cell_type": "markdown",
   "metadata": {},
   "source": [
    "Given a string, return all letters appearing in it. The result should be a string with letters sorted"
   ]
  },
  {
   "cell_type": "code",
   "execution_count": 3,
   "metadata": {},
   "outputs": [],
   "source": [
    "def sorted_string(string):\n",
    "    result = \"\"\n",
    "    for i in sorted(string):\n",
    "        result += i\n",
    "    \n",
    "    return result\n",
    "    "
   ]
  },
  {
   "cell_type": "code",
   "execution_count": 4,
   "metadata": {},
   "outputs": [
    {
     "name": "stdout",
     "output_type": "stream",
     "text": [
      "done = 'abcd', expected = 'abcd'\n"
     ]
    }
   ],
   "source": [
    "string = \"cbda\"\n",
    "\n",
    "done = sorted_string(string)\n",
    "expected = \"abcd\"\n",
    "\n",
    "print(f\"done = '{done}', expected = '{expected}'\")"
   ]
  }
 ],
 "metadata": {
  "kernelspec": {
   "display_name": "Python 3",
   "language": "python",
   "name": "python3"
  },
  "language_info": {
   "codemirror_mode": {
    "name": "ipython",
    "version": 3
   },
   "file_extension": ".py",
   "mimetype": "text/x-python",
   "name": "python",
   "nbconvert_exporter": "python",
   "pygments_lexer": "ipython3",
   "version": "3.9.6"
  }
 },
 "nbformat": 4,
 "nbformat_minor": 2
}
