{
 "cells": [
  {
   "cell_type": "markdown",
   "metadata": {},
   "source": [
    "Read numbers from one file, write their squares into another one"
   ]
  },
  {
   "cell_type": "code",
   "execution_count": null,
   "metadata": {},
   "outputs": [],
   "source": [
    "def squares():\n",
    "    with open(\"numbers.txt\", \"r\") as numbers1:\n",
    "        read_numbers = numbers1.read()\n",
    "\n",
    "    list_of_squares = []\n",
    "    current_number = \"\"\n",
    "\n",
    "    for number in read_numbers:\n",
    "        if number == \" \":\n",
    "            if len(current_number) > 0:\n",
    "                list_of_squares.append(str(int(current_number) ** 2)) \n",
    "                current_number = \"\"\n",
    "            continue\n",
    "\n",
    "        current_number += number\n",
    "\n",
    "    if len(current_number) > 0:\n",
    "            list_of_squares.append(str(int(current_number) ** 2))\n",
    "\n",
    "    string_of_squares = \" \".join(list_of_squares)                      \n",
    "\n",
    "    with open(\"squares.txt\", \"w\") as squares1:\n",
    "        squares1.write(string_of_squares)\n",
    "\n"
   ]
  },
  {
   "cell_type": "code",
   "execution_count": 3,
   "metadata": {},
   "outputs": [
    {
     "name": "stdout",
     "output_type": "stream",
     "text": [
      "20.04\n"
     ]
    }
   ],
   "source": [
    "a = 12 * 1.67\n",
    "print(a)"
   ]
  }
 ],
 "metadata": {
  "kernelspec": {
   "display_name": "Python 3",
   "language": "python",
   "name": "python3"
  },
  "language_info": {
   "codemirror_mode": {
    "name": "ipython",
    "version": 3
   },
   "file_extension": ".py",
   "mimetype": "text/x-python",
   "name": "python",
   "nbconvert_exporter": "python",
   "pygments_lexer": "ipython3",
   "version": "3.9.6"
  }
 },
 "nbformat": 4,
 "nbformat_minor": 2
}
