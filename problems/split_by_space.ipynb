{
 "cells": [
  {
   "cell_type": "markdown",
   "metadata": {},
   "source": [
    "# Split words\n",
    "\n",
    "Given a string of text, return a list of words from that text. Words in a text are separated by a space\n",
    "\n",
    "Example:\n",
    "```python\n",
    "text = \"hello world abcd\"\n",
    "split(text) == [\"hello\", \"world\", \"abcd\"]\n",
    "```"
   ]
  },
  {
   "cell_type": "code",
   "execution_count": 57,
   "metadata": {},
   "outputs": [],
   "source": [
    "from typing import List\n",
    "def split(s: str) -> List[str]:\n",
    "    result = []\n",
    "\n",
    "    current_word = \"\"\n",
    "    for letter in s:\n",
    "        if letter == \" \":\n",
    "            result.append(current_word)\n",
    "            current_word = \"\"\n",
    "            continue\n",
    "        current_word += letter\n",
    "    result.append(current_word)\n",
    "\n",
    "    return result"
   ]
  },
  {
   "cell_type": "code",
   "execution_count": 58,
   "metadata": {},
   "outputs": [
    {
     "name": "stdout",
     "output_type": "stream",
     "text": [
      "splitted = `['hello', 'world', 'abcd']`, expected = `['hello', 'world', 'abcd']`\n"
     ]
    }
   ],
   "source": [
    "text = \"hello world abcd\"\n",
    "\n",
    "splitted = split(text)\n",
    "expected = [\"hello\", \"world\", \"abcd\"]\n",
    "\n",
    "print(f\"splitted = `{splitted}`, expected = `{expected}`\")\n",
    "assert splitted == expected"
   ]
  },
  {
   "cell_type": "markdown",
   "metadata": {},
   "source": [
    "# Split by\n",
    "\n",
    "Implement a function which splits a string by a given delimiter.\n",
    "\n",
    "\n",
    "example: \n",
    "```python\n",
    "split_by(\"a$bc\", \"$\") == [\"a\", \"bc\"]\n",
    "split_by(\"lol@=kek@=chebureck\", \"@=\") == [\"lol\", \"kek\", \"chebureck\"]\n",
    "```"
   ]
  },
  {
   "cell_type": "code",
   "execution_count": 59,
   "metadata": {},
   "outputs": [],
   "source": [
    "from typing import List\n",
    "\n",
    "def split_by(s: str, delimeter: str) -> List[str]:\n",
    "    result = []\n",
    "    del_len = len(delimeter)\n",
    "\n",
    "    current_word = \"\"\n",
    "\n",
    "    for start_position in range(len(s)):\n",
    "\n",
    "        end_position = start_position + del_len\n",
    "        substring = s[start_position:end_position]\n",
    "        if substring == delimeter:\n",
    "            result.append(current_word)\n",
    "            continue\n",
    "\n",
    "        current_word += s[start_position]\n",
    "\n",
    "    return []"
   ]
  },
  {
   "cell_type": "code",
   "execution_count": 60,
   "metadata": {},
   "outputs": [
    {
     "name": "stdout",
     "output_type": "stream",
     "text": [
      "splitted = `[]`, expected = `['lol', 'kek', 'chebureck']`\n"
     ]
    },
    {
     "ename": "AssertionError",
     "evalue": "",
     "output_type": "error",
     "traceback": [
      "\u001b[0;31m---------------------------------------------------------------------------\u001b[0m",
      "\u001b[0;31mAssertionError\u001b[0m                            Traceback (most recent call last)",
      "\u001b[1;32m/Users/denis/dev/marinka-training-python/problems/split_by_space.ipynb Cell 6\u001b[0m line \u001b[0;36m7\n\u001b[1;32m      <a href='vscode-notebook-cell:/Users/denis/dev/marinka-training-python/problems/split_by_space.ipynb#X12sZmlsZQ%3D%3D?line=3'>4</a>\u001b[0m expected \u001b[39m=\u001b[39m [\u001b[39m\"\u001b[39m\u001b[39mlol\u001b[39m\u001b[39m\"\u001b[39m, \u001b[39m\"\u001b[39m\u001b[39mkek\u001b[39m\u001b[39m\"\u001b[39m, \u001b[39m\"\u001b[39m\u001b[39mchebureck\u001b[39m\u001b[39m\"\u001b[39m]\n\u001b[1;32m      <a href='vscode-notebook-cell:/Users/denis/dev/marinka-training-python/problems/split_by_space.ipynb#X12sZmlsZQ%3D%3D?line=5'>6</a>\u001b[0m \u001b[39mprint\u001b[39m(\u001b[39mf\u001b[39m\u001b[39m\"\u001b[39m\u001b[39msplitted = `\u001b[39m\u001b[39m{\u001b[39;00msplitted\u001b[39m}\u001b[39;00m\u001b[39m`, expected = `\u001b[39m\u001b[39m{\u001b[39;00mexpected\u001b[39m}\u001b[39;00m\u001b[39m`\u001b[39m\u001b[39m\"\u001b[39m)\n\u001b[0;32m----> <a href='vscode-notebook-cell:/Users/denis/dev/marinka-training-python/problems/split_by_space.ipynb#X12sZmlsZQ%3D%3D?line=6'>7</a>\u001b[0m \u001b[39massert\u001b[39;00m splitted \u001b[39m==\u001b[39m expected\n",
      "\u001b[0;31mAssertionError\u001b[0m: "
     ]
    }
   ],
   "source": [
    "text = \"lol@=kek@=chebureck\"\n",
    "\n",
    "splitted = split_by(text, \"@=\")\n",
    "expected = [\"lol\", \"kek\", \"chebureck\"]\n",
    "\n",
    "print(f\"splitted = `{splitted}`, expected = `{expected}`\")\n",
    "assert splitted == expected"
   ]
  },
  {
   "cell_type": "code",
   "execution_count": null,
   "metadata": {},
   "outputs": [],
   "source": [
    "s = \"abcd\""
   ]
  },
  {
   "cell_type": "code",
   "execution_count": null,
   "metadata": {},
   "outputs": [
    {
     "data": {
      "text/plain": [
       "'abcd'"
      ]
     },
     "execution_count": 56,
     "metadata": {},
     "output_type": "execute_result"
    }
   ],
   "source": [
    "s[0:4]"
   ]
  },
  {
   "cell_type": "code",
   "execution_count": null,
   "metadata": {},
   "outputs": [],
   "source": []
  }
 ],
 "metadata": {
  "kernelspec": {
   "display_name": "base",
   "language": "python",
   "name": "python3"
  },
  "language_info": {
   "codemirror_mode": {
    "name": "ipython",
    "version": 3
   },
   "file_extension": ".py",
   "mimetype": "text/x-python",
   "name": "python",
   "nbconvert_exporter": "python",
   "pygments_lexer": "ipython3",
   "version": "3.10.10"
  }
 },
 "nbformat": 4,
 "nbformat_minor": 2
}
