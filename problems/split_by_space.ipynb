{
 "cells": [
  {
   "cell_type": "markdown",
   "metadata": {},
   "source": [
    "# Split words\n",
    "\n",
    "Given a string of text, return a list of words from that text. Words in a text are separated by a space\n",
    "\n",
    "Example:\n",
    "```python\n",
    "text = \"hello world abcd\"\n",
    "split(text) == [\"hello\", \"world\", \"abcd\"]\n",
    "```"
   ]
  },
  {
   "cell_type": "code",
   "execution_count": 10,
   "metadata": {},
   "outputs": [],
   "source": [
    "from typing import List\n",
    "def split(s: str) -> List[str]:\n",
    "    result = []\n",
    "\n",
    "    current_word = \"\"\n",
    "    for letter in s:\n",
    "        if letter == \" \":\n",
    "            result.append(current_word)\n",
    "            current_word = \"\"\n",
    "            continue\n",
    "        current_word += letter\n",
    "\n",
    "    if len(current_word) > 0:\n",
    "        result.append(current_word)\n",
    "\n",
    "    return result"
   ]
  },
  {
   "cell_type": "code",
   "execution_count": 11,
   "metadata": {},
   "outputs": [
    {
     "name": "stdout",
     "output_type": "stream",
     "text": [
      "splitted = `['hello', 'world', '', '', 'abcd']`, expected = `['hello', 'world', 'abcd']`\n"
     ]
    },
    {
     "ename": "AssertionError",
     "evalue": "",
     "output_type": "error",
     "traceback": [
      "\u001b[0;31m---------------------------------------------------------------------------\u001b[0m",
      "\u001b[0;31mAssertionError\u001b[0m                            Traceback (most recent call last)",
      "Cell \u001b[0;32mIn[11], line 8\u001b[0m\n\u001b[1;32m      5\u001b[0m expected \u001b[38;5;241m=\u001b[39m [\u001b[38;5;124m\"\u001b[39m\u001b[38;5;124mhello\u001b[39m\u001b[38;5;124m\"\u001b[39m, \u001b[38;5;124m\"\u001b[39m\u001b[38;5;124mworld\u001b[39m\u001b[38;5;124m\"\u001b[39m, \u001b[38;5;124m\"\u001b[39m\u001b[38;5;124mabcd\u001b[39m\u001b[38;5;124m\"\u001b[39m]\n\u001b[1;32m      7\u001b[0m \u001b[38;5;28mprint\u001b[39m(\u001b[38;5;124mf\u001b[39m\u001b[38;5;124m\"\u001b[39m\u001b[38;5;124msplitted = `\u001b[39m\u001b[38;5;132;01m{\u001b[39;00msplitted\u001b[38;5;132;01m}\u001b[39;00m\u001b[38;5;124m`, expected = `\u001b[39m\u001b[38;5;132;01m{\u001b[39;00mexpected\u001b[38;5;132;01m}\u001b[39;00m\u001b[38;5;124m`\u001b[39m\u001b[38;5;124m\"\u001b[39m)\n\u001b[0;32m----> 8\u001b[0m \u001b[38;5;28;01massert\u001b[39;00m splitted \u001b[38;5;241m==\u001b[39m expected\n",
      "\u001b[0;31mAssertionError\u001b[0m: "
     ]
    }
   ],
   "source": [
    "# TODO: handle multiple spaces\n",
    "text = \"hello world   abcd \"\n",
    "\n",
    "splitted = split(text)\n",
    "expected = [\"hello\", \"world\", \"abcd\"]\n",
    "\n",
    "print(f\"splitted = `{splitted}`, expected = `{expected}`\")\n",
    "assert splitted == expected"
   ]
  },
  {
   "cell_type": "markdown",
   "metadata": {},
   "source": [
    "# Split by\n",
    "\n",
    "Implement a function which splits a string by a given delimiter.\n",
    "\n",
    "\n",
    "example: \n",
    "```python\n",
    "split_by(\"a$bc\", \"$\") == [\"a\", \"bc\"]\n",
    "split_by(\"lol@=kek@=chebureck\", \"@=\") == [\"lol\", \"kek\", \"chebureck\"]\n",
    "```"
   ]
  },
  {
   "cell_type": "code",
   "execution_count": 13,
   "metadata": {},
   "outputs": [],
   "source": [
    "from typing import List\n",
    "\n",
    "def split_by(s: str, delimeter: str) -> List[str]:\n",
    "    result = []\n",
    "    del_len = len(delimeter)\n",
    "\n",
    "    current_word = \"\"\n",
    "\n",
    "    start_position = 0\n",
    "    while start_position < len(s): # используем while, а не for потому что наш шаг не регулярен\n",
    "        # (Денис злится что эта запись не полная и не показывает то что на самом деле тут происходит)\n",
    "        end_position = start_position + del_len  # 0+2\n",
    "        substring = s[start_position:end_position] # срез == кусок строки\n",
    "        if substring == delimeter:\n",
    "            result.append(current_word)\n",
    "            current_word = \"\"\n",
    "            start_position += del_len\n",
    "            continue\n",
    "\n",
    "        current_word += s[start_position]\n",
    "        start_position += 1\n",
    "\n",
    "    if len(current_word) != 0:\n",
    "        result.append(current_word)\n",
    "\n",
    "\n",
    "    return result"
   ]
  },
  {
   "cell_type": "code",
   "execution_count": 14,
   "metadata": {},
   "outputs": [
    {
     "name": "stdout",
     "output_type": "stream",
     "text": [
      "splitted = `['lol', 'kek', '', 'chebureck']`, expected = `['lol', 'kek', 'chebureck']`\n"
     ]
    },
    {
     "ename": "AssertionError",
     "evalue": "",
     "output_type": "error",
     "traceback": [
      "\u001b[0;31m---------------------------------------------------------------------------\u001b[0m",
      "\u001b[0;31mAssertionError\u001b[0m                            Traceback (most recent call last)",
      "Cell \u001b[0;32mIn[14], line 8\u001b[0m\n\u001b[1;32m      5\u001b[0m expected \u001b[38;5;241m=\u001b[39m [\u001b[38;5;124m\"\u001b[39m\u001b[38;5;124mlol\u001b[39m\u001b[38;5;124m\"\u001b[39m, \u001b[38;5;124m\"\u001b[39m\u001b[38;5;124mkek\u001b[39m\u001b[38;5;124m\"\u001b[39m, \u001b[38;5;124m\"\u001b[39m\u001b[38;5;124mchebureck\u001b[39m\u001b[38;5;124m\"\u001b[39m]\n\u001b[1;32m      7\u001b[0m \u001b[38;5;28mprint\u001b[39m(\u001b[38;5;124mf\u001b[39m\u001b[38;5;124m\"\u001b[39m\u001b[38;5;124msplitted = `\u001b[39m\u001b[38;5;132;01m{\u001b[39;00msplitted\u001b[38;5;132;01m}\u001b[39;00m\u001b[38;5;124m`, expected = `\u001b[39m\u001b[38;5;132;01m{\u001b[39;00mexpected\u001b[38;5;132;01m}\u001b[39;00m\u001b[38;5;124m`\u001b[39m\u001b[38;5;124m\"\u001b[39m)\n\u001b[0;32m----> 8\u001b[0m \u001b[38;5;28;01massert\u001b[39;00m splitted \u001b[38;5;241m==\u001b[39m expected\n",
      "\u001b[0;31mAssertionError\u001b[0m: "
     ]
    }
   ],
   "source": [
    "# TODO: handle multiple delimiters in a row\n",
    "text = \"lol@==kek@==@==chebureck\"\n",
    "\n",
    "splitted = split_by(text, \"@==\")\n",
    "expected = [\"lol\", \"kek\", \"chebureck\"]\n",
    "\n",
    "print(f\"splitted = `{splitted}`, expected = `{expected}`\")\n",
    "assert splitted == expected"
   ]
  },
  {
   "cell_type": "code",
   "execution_count": 15,
   "metadata": {},
   "outputs": [],
   "source": [
    "def join(parts: List[str], delimeter: str) -> str:\n",
    "    result = \"\"\n",
    "\n",
    "    for i in range(len(parts)):\n",
    "        result += parts[i]\n",
    "\n",
    "        if i < len(parts) - 1: # len(parts) - 1 это последний элемент нашего списка\n",
    "            result += delimeter\n",
    "\n",
    "    return result"
   ]
  },
  {
   "cell_type": "code",
   "execution_count": 16,
   "metadata": {},
   "outputs": [
    {
     "name": "stdout",
     "output_type": "stream",
     "text": [
      "actual = hello!!!cat!!!bee\n",
      "expected = hello!!!cat!!!bee\n"
     ]
    }
   ],
   "source": [
    "input_list = [\"hello\", \"cat\", \"bee\"]\n",
    "input_del = \"!!!\"\n",
    "expected_result = \"hello!!!cat!!!bee\"\n",
    "\n",
    "actual_result = join(input_list, input_del)\n",
    "\n",
    "print(\"actual =\", actual_result)\n",
    "print(\"expected =\", expected_result)\n",
    "assert actual_result == expected_result"
   ]
  },
  {
   "cell_type": "code",
   "execution_count": null,
   "metadata": {},
   "outputs": [],
   "source": []
  }
 ],
 "metadata": {
  "kernelspec": {
   "display_name": "base",
   "language": "python",
   "name": "python3"
  },
  "language_info": {
   "codemirror_mode": {
    "name": "ipython",
    "version": 3
   },
   "file_extension": ".py",
   "mimetype": "text/x-python",
   "name": "python",
   "nbconvert_exporter": "python",
   "pygments_lexer": "ipython3",
   "version": "3.10.10"
  }
 },
 "nbformat": 4,
 "nbformat_minor": 2
}
