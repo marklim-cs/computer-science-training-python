{
 "cells": [
  {
   "cell_type": "markdown",
   "metadata": {},
   "source": [
    "There is a text, consisting of words separated by spaces (without punctuation) and a blacklist of forbidden words. Return the text with blacklisted words removed from it"
   ]
  },
  {
   "cell_type": "code",
   "execution_count": 65,
   "metadata": {},
   "outputs": [],
   "source": [
    "def remove_forbidden_words(text, blacklist):\n",
    "\n",
    "    result = []\n",
    "    current_list = make_list(text)\n",
    "\n",
    "    for current_word in current_list:\n",
    "        if current_word in blacklist:\n",
    "            continue\n",
    "        result.append(current_word)\n",
    "\n",
    "    return \" \".join(result)\n",
    "\n",
    "\n",
    "\n",
    "    #return \" \".join(set(current_list) ^ set(blacklist))\n",
    "\n",
    "\n",
    "def make_list(text):\n",
    "    word = \"\"\n",
    "    text_list = []\n",
    "\n",
    "    for letter in text:\n",
    "        if letter == \" \":\n",
    "            if len(word) > 0:\n",
    "                text_list.append(word)\n",
    "                word = \"\"\n",
    "            continue\n",
    "\n",
    "        word += letter\n",
    "\n",
    "    if len(word) > 0:\n",
    "        text_list.append(word)\n",
    "\n",
    "    return text_list\n"
   ]
  },
  {
   "cell_type": "code",
   "execution_count": 66,
   "metadata": {},
   "outputs": [
    {
     "name": "stdout",
     "output_type": "stream",
     "text": [
      "actual = 'Raw bytes can you want them to', expected = 'Raw bytes can you want them to'\n"
     ]
    }
   ],
   "source": [
    "text = \"Raw bytes can be anything you want them to be\"\n",
    "blacklist = [\"anything\", \"be\"]\n",
    "\n",
    "actual = remove_forbidden_words(text, blacklist)\n",
    "expected = \"Raw bytes can you want them to\"\n",
    "\n",
    "print(f\"actual = '{actual}', expected = '{expected}'\")\n",
    "assert actual == expected"
   ]
  }
 ],
 "metadata": {
  "kernelspec": {
   "display_name": "base",
   "language": "python",
   "name": "python3"
  },
  "language_info": {
   "codemirror_mode": {
    "name": "ipython",
    "version": 3
   },
   "file_extension": ".py",
   "mimetype": "text/x-python",
   "name": "python",
   "nbconvert_exporter": "python",
   "pygments_lexer": "ipython3",
   "version": "3.10.10"
  }
 },
 "nbformat": 4,
 "nbformat_minor": 2
}
