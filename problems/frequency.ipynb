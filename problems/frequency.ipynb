{
 "cells": [
  {
   "cell_type": "markdown",
   "metadata": {},
   "source": [
    "Given an integer list, return its frequency map, i.e. a dictionary of number => frequency"
   ]
  },
  {
   "cell_type": "code",
   "execution_count": 45,
   "metadata": {},
   "outputs": [],
   "source": [
    "def frequency_map(integers_list):\n",
    "\n",
    "    dictionary = {}\n",
    "\n",
    "    dictionary = {integers: integers_list.count(integers) for integers in integers_list}\n",
    "\n",
    "        \n",
    "    \n",
    "    return dictionary"
   ]
  },
  {
   "cell_type": "code",
   "execution_count": 46,
   "metadata": {},
   "outputs": [
    {
     "name": "stdout",
     "output_type": "stream",
     "text": [
      "actual = '{11: 1, 21: 5, 3: 1, 4: 6, 90: 2, 6: 1, 77: 3}', expected = '{11: 1, 21: 5, 3: 1, 4: 6, 6: 1, 90: 2, 77: 3}'\n"
     ]
    }
   ],
   "source": [
    "integers_list = [11, 21, 3, 21, 21, 21, 21, 4, 90, 4, 4, 4, 4, 4, 6, 77, 77, 77, 90]\n",
    "\n",
    "actual = frequency_map(integers_list)\n",
    "expected = {\n",
    "    11: 1, \n",
    "    21: 5, \n",
    "    3: 1, \n",
    "    4: 6,\n",
    "    6: 1, \n",
    "    90: 2,\n",
    "    77: 3,\n",
    "}\n",
    "\n",
    "print(f\"actual = '{actual}', expected = '{expected}'\")\n",
    "assert actual == expected\n",
    "\n"
   ]
  }
 ],
 "metadata": {
  "kernelspec": {
   "display_name": "Python 3",
   "language": "python",
   "name": "python3"
  },
  "language_info": {
   "codemirror_mode": {
    "name": "ipython",
    "version": 3
   },
   "file_extension": ".py",
   "mimetype": "text/x-python",
   "name": "python",
   "nbconvert_exporter": "python",
   "pygments_lexer": "ipython3",
   "version": "3.9.6"
  }
 },
 "nbformat": 4,
 "nbformat_minor": 2
}
