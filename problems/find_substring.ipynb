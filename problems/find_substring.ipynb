{
 "cells": [
  {
   "cell_type": "markdown",
   "metadata": {},
   "source": [
    "# Find substring"
   ]
  },
  {
   "cell_type": "code",
   "execution_count": 70,
   "metadata": {},
   "outputs": [],
   "source": [
    "def contains(text: str, substring: str) -> bool:\n",
    "    \"\"\"\n",
    "    Returns `True` if `text` contains `substring`.\n",
    "    Returns `False` otherwise\n",
    "    \"\"\"\n",
    "\n",
    "    if len(substring) == 0:\n",
    "        return True\n",
    "\n",
    "\n",
    "    for start_position in range(len(text)):\n",
    "        end_position = start_position + len(substring)\n",
    "        slice = text[start_position:end_position]\n",
    "\n",
    "        if slice == substring:\n",
    "            return True\n",
    "\n",
    "    return False\n"
   ]
  },
  {
   "cell_type": "code",
   "execution_count": 71,
   "metadata": {},
   "outputs": [
    {
     "name": "stdout",
     "output_type": "stream",
     "text": [
      "looking for 'czek' in 'toyota happy serniczek ichwillnicht'\n",
      "actual = True\n",
      "expected = True\n",
      "correct!!!\n",
      "looking for 'Denis' in 'toyota happy serniczek ichwillnicht'\n",
      "actual = False\n",
      "expected = False\n",
      "correct!!!\n",
      "looking for 'non-empty' in ''\n",
      "actual = False\n",
      "expected = False\n",
      "correct!!!\n",
      "looking for '' in 'non-empty'\n",
      "actual = True\n",
      "expected = True\n",
      "correct!!!\n",
      "looking for '' in ''\n",
      "actual = True\n",
      "expected = True\n",
      "correct!!!\n",
      "looking for 'toyota yaris' in 'toyota'\n",
      "actual = False\n",
      "expected = False\n",
      "correct!!!\n"
     ]
    }
   ],
   "source": [
    "def test_case(text, substring, expected_result: bool):\n",
    "    actual_result = contains(text, substring)\n",
    "\n",
    "    print(f\"looking for '{substring}' in '{text}'\")\n",
    "    print(\"actual =\", actual_result)\n",
    "    print(\"expected =\", expected_result)\n",
    "    assert actual_result == expected_result\n",
    "    print(\"correct!!!\")\n",
    "\n",
    "\n",
    "test_case(text = \"toyota happy serniczek ichwillnicht\", substring = \"czek\", expected_result = True)\n",
    "test_case(text = \"toyota happy serniczek ichwillnicht\", substring = \"Denis\", expected_result = False)\n",
    "test_case(text = \"\", substring = \"non-empty\", expected_result = False)\n",
    "test_case(text = \"non-empty\", substring = \"\", expected_result = True)\n",
    "test_case(text = \"\", substring = \"\", expected_result = True)\n",
    "test_case(text = \"toyota\", substring = \"toyota yaris\", expected_result = False)"
   ]
  },
  {
   "cell_type": "code",
   "execution_count": 72,
   "metadata": {},
   "outputs": [],
   "source": [
    "def count_repetitions(text: str, substring: str) -> int:\n",
    "\n",
    "    if len(substring) > len(text):\n",
    "        return 0\n",
    "    elif len(substring) == 0:\n",
    "        return len(text) + 1\n",
    "\n",
    "    result = 0\n",
    "    start_position = 0\n",
    "\n",
    "    while start_position < len(text):\n",
    "        end_position = start_position + len(substring)\n",
    "        slice = text[start_position:end_position]\n",
    "\n",
    "        if slice == substring:\n",
    "            result += 1\n",
    "\n",
    "        start_position += 1\n",
    "\n",
    "    return result\n"
   ]
  },
  {
   "cell_type": "code",
   "execution_count": 73,
   "metadata": {},
   "outputs": [
    {
     "name": "stdout",
     "output_type": "stream",
     "text": [
      "looking for 'happy' in 'toyota happy serniczek happy ichwillnicht'\n",
      "actual = 2\n",
      "expected = 2\n",
      "correct!!!\n",
      "looking for 'Denis' in 'toyota happy serniczek happy ichwillnicht'\n",
      "actual = 0\n",
      "expected = 0\n",
      "correct!!!\n",
      "looking for 'happy' in ''\n",
      "actual = 0\n",
      "expected = 0\n",
      "correct!!!\n",
      "looking for '' in 'non-empty'\n",
      "actual = 10\n",
      "expected = 10\n",
      "correct!!!\n",
      "looking for '' in ''\n",
      "actual = 1\n",
      "expected = 1\n",
      "correct!!!\n",
      "looking for 'toyota yaris' in 'toyota'\n",
      "actual = 0\n",
      "expected = 0\n",
      "correct!!!\n"
     ]
    }
   ],
   "source": [
    "def test_count_repetitions(text, substring, expected_result: int):\n",
    "    actual_result = count_repetitions(text, substring)\n",
    "\n",
    "    print(f\"looking for '{substring}' in '{text}'\")\n",
    "    print(\"actual =\", actual_result)\n",
    "    print(\"expected =\", expected_result)\n",
    "    assert actual_result == expected_result\n",
    "    print(\"correct!!!\")\n",
    "\n",
    "\n",
    "test_count_repetitions(text = \"toyota happy serniczek happy ichwillnicht\", substring = \"happy\", expected_result = 2)\n",
    "test_count_repetitions(text = \"toyota happy serniczek happy ichwillnicht\", substring = \"Denis\", expected_result = 0)\n",
    "test_count_repetitions(text = \"\", substring = \"happy\", expected_result = 0)\n",
    "test_count_repetitions(text = \"non-empty\", substring = \"\", expected_result = 10)\n",
    "test_count_repetitions(text = \"\", substring = \"\", expected_result = 1)\n",
    "test_count_repetitions(text = \"toyota\", substring = \"toyota yaris\", expected_result = 0)"
   ]
  }
 ],
 "metadata": {
  "kernelspec": {
   "display_name": "base",
   "language": "python",
   "name": "python3"
  },
  "language_info": {
   "codemirror_mode": {
    "name": "ipython",
    "version": 3
   },
   "file_extension": ".py",
   "mimetype": "text/x-python",
   "name": "python",
   "nbconvert_exporter": "python",
   "pygments_lexer": "ipython3",
   "version": "3.10.10"
  }
 },
 "nbformat": 4,
 "nbformat_minor": 2
}
