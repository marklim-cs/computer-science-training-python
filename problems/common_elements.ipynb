{
 "cells": [
  {
   "cell_type": "markdown",
   "metadata": {},
   "source": [
    "There are 2 lists of integers A and B. Return a list of their common elements, integers contained on both A and B. "
   ]
  },
  {
   "cell_type": "code",
   "execution_count": 54,
   "metadata": {},
   "outputs": [],
   "source": [
    "def common_elements(A, B):\n",
    "    A, B = set(A), set(B)\n",
    "    result = A & B\n",
    "    return list(result)"
   ]
  },
  {
   "cell_type": "code",
   "execution_count": 71,
   "metadata": {},
   "outputs": [],
   "source": [
    "def common_elements2(A, B):\n",
    "    result = []\n",
    "    A = set(A)\n",
    "    B = set(B)\n",
    "    for integer in A:\n",
    "        if integer in B:\n",
    "            result.append(integer)\n",
    "\n",
    "    return result"
   ]
  },
  {
   "cell_type": "code",
   "execution_count": 56,
   "metadata": {},
   "outputs": [],
   "source": [
    "def common_elements2_slow(A, B):\n",
    "    result = []\n",
    "    for integer in A:\n",
    "        if integer in B:\n",
    "            result.append(integer)\n",
    "\n",
    "    return result"
   ]
  },
  {
   "cell_type": "code",
   "execution_count": 50,
   "metadata": {},
   "outputs": [],
   "source": [
    "import random\n",
    "rand_list1 = [random.randint(0, 100) for _ in range(1000000)]\n",
    "rand_list2 = [random.randint(0, 100) for _ in range(1000000)]\n",
    "rand_list3 = [random.randint(0, 100) for _ in range(1000000)]\n",
    "rand_list4 = [random.randint(0, 100) for _ in range(1000000)]\n",
    "rand_list5 = [random.randint(0, 100) for _ in range(1000000)]\n",
    "rand_list6 = [random.randint(0, 100) for _ in range(1000000)]"
   ]
  },
  {
   "cell_type": "code",
   "execution_count": 72,
   "metadata": {},
   "outputs": [
    {
     "name": "stdout",
     "output_type": "stream",
     "text": [
      "6.86 ms ± 46.2 µs per loop (mean ± std. dev. of 7 runs, 100 loops each)\n"
     ]
    }
   ],
   "source": [
    "%timeit common_elements2(rand_list1, rand_list2)"
   ]
  },
  {
   "cell_type": "code",
   "execution_count": 49,
   "metadata": {},
   "outputs": [
    {
     "name": "stdout",
     "output_type": "stream",
     "text": [
      "419 ms ± 2.23 ms per loop (mean ± std. dev. of 7 runs, 1 loop each)\n"
     ]
    }
   ],
   "source": [
    "%timeit common_elements2_slow(rand_list3, rand_list4)"
   ]
  },
  {
   "cell_type": "code",
   "execution_count": 51,
   "metadata": {},
   "outputs": [
    {
     "name": "stdout",
     "output_type": "stream",
     "text": [
      "6.88 ms ± 27.5 µs per loop (mean ± std. dev. of 7 runs, 100 loops each)\n"
     ]
    }
   ],
   "source": [
    "%timeit common_elements(rand_list5, rand_list6)"
   ]
  },
  {
   "cell_type": "code",
   "execution_count": 66,
   "metadata": {},
   "outputs": [
    {
     "name": "stdout",
     "output_type": "stream",
     "text": [
      "actual = '[99, 4, 45]', expected = '[4, 99, 45]'\n"
     ]
    }
   ],
   "source": [
    "A = [3, 4, 6, 45, 99, 16, 45]\n",
    "B = [5, 4, 56, 45, 99, 4]\n",
    "\n",
    "actual = common_elements2(A, B)\n",
    "expected = [4, 99, 45]\n",
    "\n",
    "print(f\"actual = '{actual}', expected = '{expected}'\")\n",
    "assert actual.sort() == expected.sort()"
   ]
  }
 ],
 "metadata": {
  "kernelspec": {
   "display_name": "base",
   "language": "python",
   "name": "python3"
  },
  "language_info": {
   "codemirror_mode": {
    "name": "ipython",
    "version": 3
   },
   "file_extension": ".py",
   "mimetype": "text/x-python",
   "name": "python",
   "nbconvert_exporter": "python",
   "pygments_lexer": "ipython3",
   "version": "3.10.10"
  }
 },
 "nbformat": 4,
 "nbformat_minor": 2
}
