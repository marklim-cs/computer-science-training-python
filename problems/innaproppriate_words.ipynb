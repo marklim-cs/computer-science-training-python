{
 "cells": [
  {
   "cell_type": "markdown",
   "metadata": {},
   "source": [
    "Given a text and inappropriate words replacement dictionary, replace innapropriate words in the text "
   ]
  },
  {
   "cell_type": "code",
   "execution_count": 27,
   "metadata": {},
   "outputs": [],
   "source": [
    "def innapropriate_words(text, innapropriate):\n",
    "    words_list = split_text(text)\n",
    "\n",
    "    for idx, word in enumerate(words_list):\n",
    "        replacement = innapropriate.get(word)\n",
    "        if replacement is not None:\n",
    "            words_list[idx] = replacement\n",
    "\n",
    "\n",
    "    return \" \".join(words_list)\n",
    "\n",
    "\n",
    "\n",
    "def split_text(text):\n",
    "    word = \"\"\n",
    "    text_list = []\n",
    "\n",
    "    for letter in text:\n",
    "        if letter == \" \":\n",
    "            if len(word) > 0:\n",
    "                text_list.append(word)\n",
    "                word = \"\"\n",
    "            continue\n",
    "\n",
    "        word += letter\n",
    "\n",
    "    if len(word) > 0:\n",
    "        text_list.append(word)\n",
    "\n",
    "    return text_list"
   ]
  },
  {
   "cell_type": "code",
   "execution_count": 28,
   "metadata": {},
   "outputs": [],
   "source": [
    "def test(text, innapropriate, expected):\n",
    "    actual = innapropriate_words(text, innapropriate)\n",
    "\n",
    "    print(f\"actual = '{actual}',\\nexpected = '{expected}'\")\n",
    "    assert actual == expected"
   ]
  },
  {
   "cell_type": "code",
   "execution_count": 29,
   "metadata": {},
   "outputs": [
    {
     "name": "stdout",
     "output_type": "stream",
     "text": [
      "actual = 'DEAR COLLEAGUES DON'T PLEASE TOUCH WHAT YOU DON'T UNDERSTAND',\n",
      "expected = 'DEAR COLLEAGUES DON'T PLEASE TOUCH WHAT YOU DON'T UNDERSTAND'\n"
     ]
    }
   ],
   "source": [
    "expected = \"DEAR COLLEAGUES DON'T PLEASE TOUCH WHAT YOU DON'T UNDERSTAND\"\n",
    "text = \"IDIOTS DON'T FUCKING TOUCH WHAT YOU DON'T UNDERSTAND\"\n",
    "\n",
    "innapropriate = {\n",
    "    \"IDIOTS\": \"DEAR COLLEAGUES\",\n",
    "    \"FUCKING\": \"PLEASE\"\n",
    "}\n",
    "\n",
    "test(text, innapropriate, expected)"
   ]
  },
  {
   "cell_type": "code",
   "execution_count": null,
   "metadata": {},
   "outputs": [],
   "source": []
  }
 ],
 "metadata": {
  "kernelspec": {
   "display_name": "base",
   "language": "python",
   "name": "python3"
  },
  "language_info": {
   "codemirror_mode": {
    "name": "ipython",
    "version": 3
   },
   "file_extension": ".py",
   "mimetype": "text/x-python",
   "name": "python",
   "nbconvert_exporter": "python",
   "pygments_lexer": "ipython3",
   "version": "3.10.10"
  }
 },
 "nbformat": 4,
 "nbformat_minor": 2
}
