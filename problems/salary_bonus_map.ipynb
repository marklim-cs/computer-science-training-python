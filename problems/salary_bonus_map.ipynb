{
 "cells": [
  {
   "cell_type": "markdown",
   "metadata": {},
   "source": [
    "increase all the salaries by a given bonus"
   ]
  },
  {
   "cell_type": "code",
   "execution_count": 3,
   "metadata": {},
   "outputs": [
    {
     "name": "stdout",
     "output_type": "stream",
     "text": [
      "[2200, 3300, 2700, 4200]\n"
     ]
    }
   ],
   "source": [
    "salaries = [2000, 3100, 2500, 4000]\n",
    "bonus = int(input())\n",
    "\n",
    "def salary_bonus(x):\n",
    "    return x + bonus\n",
    "\n",
    "result = list(map(salary_bonus, salaries))\n",
    "\n",
    "print(result)\n",
    "\n",
    "\n",
    "\n"
   ]
  },
  {
   "cell_type": "code",
   "execution_count": 4,
   "metadata": {},
   "outputs": [
    {
     "name": "stdout",
     "output_type": "stream",
     "text": [
      "added = '[2200, 3300, 2700, 4200]', expected = '[2200, 3300, 2700, 4200]'\n"
     ]
    }
   ],
   "source": [
    "salaries = [2000, 3100, 2500, 4000]\n",
    "bonus = 200\n",
    "\n",
    "added = result\n",
    "expected = [2200, 3300, 2700, 4200]\n",
    "\n",
    "print(f\"added = '{added}', expected = '{expected}'\")\n",
    "assert added == expected"
   ]
  },
  {
   "cell_type": "markdown",
   "metadata": {},
   "source": [
    "map() \n",
    "takes a function and an iterable as arguments, and returns a new iterable with the function applied to each argument \n",
    "result = list(map(function, iterable))\n",
    "\n",
    "filter()\n",
    "nums = [12, 45, 76]\n",
    "result = list(filter(lambda x: x%2==0, nums))"
   ]
  }
 ],
 "metadata": {
  "kernelspec": {
   "display_name": "Python 3",
   "language": "python",
   "name": "python3"
  },
  "language_info": {
   "codemirror_mode": {
    "name": "ipython",
    "version": 3
   },
   "file_extension": ".py",
   "mimetype": "text/x-python",
   "name": "python",
   "nbconvert_exporter": "python",
   "pygments_lexer": "ipython3",
   "version": "3.9.6"
  }
 },
 "nbformat": 4,
 "nbformat_minor": 2
}
