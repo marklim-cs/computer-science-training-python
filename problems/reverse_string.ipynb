{
 "cells": [
  {
   "cell_type": "markdown",
   "metadata": {},
   "source": [
    "Given a string, return its reverse"
   ]
  },
  {
   "cell_type": "code",
   "execution_count": 117,
   "metadata": {},
   "outputs": [],
   "source": [
    "def reverse(s: str) -> str:\n",
    "    result = \"\"\n",
    "    for letter_idx in range(len(s)):\n",
    "        result += s[len(s)-1-letter_idx]\n",
    "    return result"
   ]
  },
  {
   "cell_type": "code",
   "execution_count": 118,
   "metadata": {},
   "outputs": [],
   "source": [
    "def reverse1(s: str) -> str:\n",
    "    result = \"\"\n",
    "    for letter in s:\n",
    "        result = letter + result\n",
    "    return result"
   ]
  },
  {
   "cell_type": "code",
   "execution_count": 119,
   "metadata": {},
   "outputs": [],
   "source": [
    "def reverse2(s: str) -> str:\n",
    "    s = list(s)\n",
    "    for left_idx in range(len(s)//2):\n",
    "        right_idx = len(s)-1-left_idx\n",
    "        s[right_idx], s[left_idx] = s[left_idx], s[right_idx]\n",
    "\n",
    "        # right_letter = s[right_idx]\n",
    "        # left_letter = s[left_idx]\n",
    "        # s[right_idx] = left_letter\n",
    "        # s[left_idx] = right_letter\n",
    "\n",
    "        # right_letter = s[right_idx]\n",
    "        # s[right_idx] = s[left_idx]\n",
    "        # s[left_idx] = right_letter\n",
    "\n",
    "    return \"\".join(s)"
   ]
  },
  {
   "cell_type": "code",
   "execution_count": 120,
   "metadata": {},
   "outputs": [],
   "source": [
    "assert reverse(\"hello\") == \"olleh\"\n",
    "assert reverse(\"\") == \"\""
   ]
  },
  {
   "cell_type": "code",
   "execution_count": 121,
   "metadata": {},
   "outputs": [],
   "source": [
    "assert reverse1(\"hello\") == \"olleh\"\n",
    "assert reverse1(\"\") == \"\""
   ]
  },
  {
   "cell_type": "code",
   "execution_count": 160,
   "metadata": {},
   "outputs": [],
   "source": [
    "assert reverse2(\"hello\") == \"olleh\"\n",
    "assert reverse2(\"\") == \"\""
   ]
  },
  {
   "cell_type": "code",
   "execution_count": 123,
   "metadata": {},
   "outputs": [],
   "source": [
    "import random\n",
    "\n",
    "def random_string(size: int) -> str:\n",
    "\n",
    "    return \"\".join([chr(random.randint(ord('a'), ord('z'))) for _ in range(size)])"
   ]
  },
  {
   "cell_type": "code",
   "execution_count": 127,
   "metadata": {},
   "outputs": [
    {
     "name": "stdout",
     "output_type": "stream",
     "text": [
      "60.2 ms ± 0 ns per loop (mean ± std. dev. of 1 run, 1 loop each)\n"
     ]
    }
   ],
   "source": [
    "%timeit -n 1 -r 1 reverse(random_string(100000))"
   ]
  },
  {
   "cell_type": "code",
   "execution_count": 128,
   "metadata": {},
   "outputs": [
    {
     "name": "stdout",
     "output_type": "stream",
     "text": [
      "226 ms ± 0 ns per loop (mean ± std. dev. of 1 run, 1 loop each)\n"
     ]
    }
   ],
   "source": [
    "%timeit -n 1 -r 1 reverse1(random_string(100000))"
   ]
  },
  {
   "cell_type": "code",
   "execution_count": 129,
   "metadata": {},
   "outputs": [
    {
     "name": "stdout",
     "output_type": "stream",
     "text": [
      "59.1 ms ± 0 ns per loop (mean ± std. dev. of 1 run, 1 loop each)\n"
     ]
    }
   ],
   "source": [
    "%timeit -n 1 -r 1 reverse2(random_string(100000))"
   ]
  },
  {
   "cell_type": "code",
   "execution_count": 159,
   "metadata": {},
   "outputs": [
    {
     "name": "stdout",
     "output_type": "stream",
     "text": [
      "before\n",
      "id(a) = 4472030912\n",
      "id(b) = 4472031296\n",
      "a = [1, 2, 3], b = [1, 2, 3]\n",
      "after\n",
      "id(a) = 4472030912\n",
      "id(b) = 4472031296\n",
      "a = [5, 2, 3], b = [1, 2, 3]\n"
     ]
    }
   ],
   "source": [
    "import copy\n",
    "\n",
    "a = [1, 2, 3]\n",
    "# b = copy.deepcopy(a)\n",
    "b = [*a]\n",
    "# b = [10, *a, 15]\n",
    "\n",
    "print(\"before\")\n",
    "print(f\"id(a) = {id(a)}\")\n",
    "print(f\"id(b) = {id(b)}\")\n",
    "print(f\"a = {a}, b = {b}\")\n",
    "\n",
    "a[0] = 5\n",
    "\n",
    "print(\"after\")\n",
    "print(f\"id(a) = {id(a)}\")\n",
    "print(f\"id(b) = {id(b)}\")\n",
    "print(f\"a = {a}, b = {b}\")"
   ]
  },
  {
   "cell_type": "code",
   "execution_count": 155,
   "metadata": {},
   "outputs": [],
   "source": [
    "def min(a, b, *args):\n",
    "    result = a\n",
    "    if b < a:\n",
    "        result = b\n",
    "\n",
    "    for val in args:\n",
    "        print(\"in loop\")\n",
    "        if val < result:\n",
    "            result = val\n",
    "\n",
    "    return result"
   ]
  },
  {
   "cell_type": "code",
   "execution_count": null,
   "metadata": {},
   "outputs": [],
   "source": []
  }
 ],
 "metadata": {
  "kernelspec": {
   "display_name": "base",
   "language": "python",
   "name": "python3"
  },
  "language_info": {
   "codemirror_mode": {
    "name": "ipython",
    "version": 3
   },
   "file_extension": ".py",
   "mimetype": "text/x-python",
   "name": "python",
   "nbconvert_exporter": "python",
   "pygments_lexer": "ipython3",
   "version": "3.10.10"
  }
 },
 "nbformat": 4,
 "nbformat_minor": 2
}
