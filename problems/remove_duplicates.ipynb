{
 "cells": [
  {
   "cell_type": "markdown",
   "metadata": {},
   "source": [
    "Remove duplicates from a list"
   ]
  },
  {
   "cell_type": "code",
   "execution_count": 1,
   "metadata": {},
   "outputs": [],
   "source": [
    "def remove_duplicates(given_list):\n",
    "    return list((set(given_list)))"
   ]
  },
  {
   "cell_type": "code",
   "execution_count": 2,
   "metadata": {},
   "outputs": [
    {
     "name": "stdout",
     "output_type": "stream",
     "text": [
      "removed = '['zerkalo', 'tapki', 'dveri']', expected = '['tapki', 'dveri', 'zerkalo']'\n"
     ]
    }
   ],
   "source": [
    "given_list = [\"tapki\", \"dveri\", \"tapki\", \"zerkalo\"]\n",
    "\n",
    "removed = remove_duplicates(given_list)\n",
    "expected = [\"tapki\", \"dveri\", \"zerkalo\"]\n",
    "\n",
    "print(f\"removed = '{removed}', expected = '{expected}'\")"
   ]
  }
 ],
 "metadata": {
  "kernelspec": {
   "display_name": "Python 3",
   "language": "python",
   "name": "python3"
  },
  "language_info": {
   "codemirror_mode": {
    "name": "ipython",
    "version": 3
   },
   "file_extension": ".py",
   "mimetype": "text/x-python",
   "name": "python",
   "nbconvert_exporter": "python",
   "pygments_lexer": "ipython3",
   "version": "3.10.10"
  }
 },
 "nbformat": 4,
 "nbformat_minor": 2
}
