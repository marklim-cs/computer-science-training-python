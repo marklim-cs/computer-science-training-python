{
 "cells": [
  {
   "cell_type": "markdown",
   "metadata": {},
   "source": [
    "Exceptions:\n",
    "\n",
    "ValueError, NameError"
   ]
  },
  {
   "cell_type": "code",
   "execution_count": 36,
   "metadata": {},
   "outputs": [
    {
     "name": "stdout",
     "output_type": "stream",
     "text": [
      "x is 6\n"
     ]
    }
   ],
   "source": [
    "try: \n",
    "    x = int(input(\"What's x?\"))\n",
    "    print(f\"x is {x}\")\n",
    "except ValueError:\n",
    "    print(\"x is not an int\")"
   ]
  },
  {
   "cell_type": "code",
   "execution_count": 37,
   "metadata": {},
   "outputs": [
    {
     "name": "stdout",
     "output_type": "stream",
     "text": [
      "x is 7\n"
     ]
    }
   ],
   "source": [
    "# we get the NameError here because when we assign a wrong input (ex. cat)\n",
    "# it doesn't get assigned to x, because the VallueError happens too soon \n",
    "# if the value is correct, the code runs\n",
    "try: \n",
    "    x = int(input(\"What's x?\"))\n",
    "except ValueError:\n",
    "    print(\"x is not an int\")\n",
    "\n",
    "print(f\"x is {x}\")"
   ]
  },
  {
   "cell_type": "code",
   "execution_count": 38,
   "metadata": {},
   "outputs": [
    {
     "name": "stdout",
     "output_type": "stream",
     "text": [
      "x is 7\n"
     ]
    }
   ],
   "source": [
    "try: \n",
    "    x = int(input(\"What's x?\"))\n",
    "except ValueError:\n",
    "    print(\"x is not an int\")\n",
    "else:\n",
    "    print(f\"x is {x}\")"
   ]
  },
  {
   "cell_type": "code",
   "execution_count": 39,
   "metadata": {},
   "outputs": [
    {
     "name": "stdout",
     "output_type": "stream",
     "text": [
      "x is 7\n"
     ]
    }
   ],
   "source": [
    "# infinite loop\n",
    "while True:\n",
    "    try: \n",
    "        x = int(input(\"What's x?\"))\n",
    "    except ValueError:\n",
    "        print(\"x is not an int\")\n",
    "    else:\n",
    "        break\n",
    "print(f\"x is {x}\")"
   ]
  },
  {
   "cell_type": "code",
   "execution_count": 40,
   "metadata": {},
   "outputs": [
    {
     "name": "stdout",
     "output_type": "stream",
     "text": [
      "x is 7\n"
     ]
    }
   ],
   "source": [
    "def main():\n",
    "    x = get_int()\n",
    "    print(f\"x is {x}\")\n",
    "\n",
    "def get_int():\n",
    "    while True:\n",
    "        try: \n",
    "            x = int(input(\"What's x?\"))\n",
    "        except ValueError:\n",
    "            print(\"x is not an int\")\n",
    "        else:\n",
    "            # we can use return instead of break as it does two things: \n",
    "            # returns the value and breaks out from the loop\n",
    "            return x \n",
    "\n",
    "main()"
   ]
  },
  {
   "cell_type": "code",
   "execution_count": 41,
   "metadata": {},
   "outputs": [
    {
     "name": "stdout",
     "output_type": "stream",
     "text": [
      "x is 7\n"
     ]
    }
   ],
   "source": [
    "def main():\n",
    "    x = get_int(\"What's x? \")\n",
    "    print(f\"x is {x}\")\n",
    "\n",
    "\n",
    "def get_int(prompt):\n",
    "    while True:\n",
    "        try: \n",
    "            return int(input(prompt))\n",
    "        except ValueError:\n",
    "            # print(\"x is not an int\")\n",
    "            # allows to catch on exception but pass doing anything with it\n",
    "            pass\n",
    "\n",
    "main()"
   ]
  },
  {
   "cell_type": "code",
   "execution_count": 47,
   "metadata": {},
   "outputs": [
    {
     "name": "stdout",
     "output_type": "stream",
     "text": [
      "username is kh\n"
     ]
    }
   ],
   "source": [
    "def main():\n",
    "    x = get_username(\"What's your username? \")\n",
    "    print(f\"username is {x}\")\n",
    "\n",
    "\n",
    "def get_username(prompt):\n",
    "    while True:\n",
    "        try: \n",
    "            return input(prompt)\n",
    "        except \n",
    "        \n",
    "\n",
    "\n",
    "main()"
   ]
  },
  {
   "cell_type": "code",
   "execution_count": null,
   "metadata": {},
   "outputs": [],
   "source": []
  }
 ],
 "metadata": {
  "kernelspec": {
   "display_name": "Python 3",
   "language": "python",
   "name": "python3"
  },
  "language_info": {
   "codemirror_mode": {
    "name": "ipython",
    "version": 3
   },
   "file_extension": ".py",
   "mimetype": "text/x-python",
   "name": "python",
   "nbconvert_exporter": "python",
   "pygments_lexer": "ipython3",
   "version": "3.9.6"
  }
 },
 "nbformat": 4,
 "nbformat_minor": 2
}
