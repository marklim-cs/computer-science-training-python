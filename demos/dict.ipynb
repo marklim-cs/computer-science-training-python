{
 "cells": [
  {
   "cell_type": "code",
   "execution_count": 31,
   "metadata": {},
   "outputs": [],
   "source": [
    "class Dict:\n",
    "    def __init__(self):\n",
    "        self.keys = []\n",
    "        self.values = []\n",
    "\n",
    "    def set(self, key, val):\n",
    "        for i in range(len(self.keys)):\n",
    "            if self.keys[i] == key:\n",
    "                self.values[i] = val\n",
    "                return\n",
    "\n",
    "        self.keys.append(key)\n",
    "        self.values.append(val)\n",
    "\n",
    "    def get(self, key):\n",
    "        for i in range(len(self.keys)):\n",
    "            if self.keys[i] == key:\n",
    "                return self.values[i]\n",
    "        return None"
   ]
  },
  {
   "cell_type": "code",
   "execution_count": 32,
   "metadata": {},
   "outputs": [
    {
     "name": "stdout",
     "output_type": "stream",
     "text": [
      "[] []\n",
      "[1] ['Marina']\n",
      "[1, 17] ['Marina', 'Denis']\n",
      "[1, 17, 0] ['Marina', 'Denis', 'Herbatka']\n",
      "Denis Denis\n",
      "Zupka Zupka\n"
     ]
    }
   ],
   "source": [
    "d = Dict()\n",
    "\n",
    "print(d.keys, d.values)\n",
    "d.set(1, \"Marina\")\n",
    "print(d.keys, d.values)\n",
    "d.set(17, \"Denis\")\n",
    "print(d.keys, d.values)\n",
    "d.set(0, \"Herbatka\")\n",
    "print(d.keys, d.values)\n",
    "d.set(0, \"Zupka\")\n",
    "\n",
    "print(d.get(17), \"Denis\")\n",
    "assert d.get(17) == \"Denis\"\n",
    "assert d.get(1) == \"Marina\"\n",
    "print(d.get(0), \"Zupka\")\n",
    "assert d.get(0) == \"Zupka\"\n",
    "assert d.get(32) == None"
   ]
  }
 ],
 "metadata": {
  "kernelspec": {
   "display_name": "base",
   "language": "python",
   "name": "python3"
  },
  "language_info": {
   "codemirror_mode": {
    "name": "ipython",
    "version": 3
   },
   "file_extension": ".py",
   "mimetype": "text/x-python",
   "name": "python",
   "nbconvert_exporter": "python",
   "pygments_lexer": "ipython3",
   "version": "3.10.10"
  }
 },
 "nbformat": 4,
 "nbformat_minor": 2
}
