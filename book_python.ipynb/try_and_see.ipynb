{
 "cells": [
  {
   "cell_type": "markdown",
   "metadata": {},
   "source": [
    "why in C two strings are always different? because in C every letter is char*, so every letter has a different memory address. \n",
    "s = cat\n",
    "t = cat\n",
    "\n",
    "t == s\n",
    "False\n"
   ]
  },
  {
   "cell_type": "code",
   "execution_count": 6,
   "metadata": {},
   "outputs": [
    {
     "name": "stdout",
     "output_type": "stream",
     "text": [
      "/Users/marinaclimovici/dev/marinka-training-python/book_python.ipynb\n",
      "['try_and_see.ipynb']\n"
     ]
    }
   ],
   "source": [
    "import os\n",
    "\n",
    "print(os.getcwd())\n",
    "print(os.listdir())"
   ]
  },
  {
   "cell_type": "code",
   "execution_count": 7,
   "metadata": {},
   "outputs": [
    {
     "name": "stdout",
     "output_type": "stream",
     "text": [
      "hex = '0x4', oct = '0o4', bin = '0b100'\n"
     ]
    }
   ],
   "source": [
    "\n",
    "\n",
    "print(f\"hex = '{hex(4)}', oct = '{oct(4)}', bin = '{bin(4)}'\")"
   ]
  },
  {
   "cell_type": "code",
   "execution_count": null,
   "metadata": {},
   "outputs": [],
   "source": [
    "x = int"
   ]
  }
 ],
 "metadata": {
  "kernelspec": {
   "display_name": "Python 3",
   "language": "python",
   "name": "python3"
  },
  "language_info": {
   "codemirror_mode": {
    "name": "ipython",
    "version": 3
   },
   "file_extension": ".py",
   "mimetype": "text/x-python",
   "name": "python",
   "nbconvert_exporter": "python",
   "pygments_lexer": "ipython3",
   "version": "3.9.6"
  }
 },
 "nbformat": 4,
 "nbformat_minor": 2
}
